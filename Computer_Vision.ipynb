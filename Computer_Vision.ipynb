{
 "cells": [
  {
   "cell_type": "markdown",
   "id": "59c91406",
   "metadata": {},
   "source": [
    "\n",
    "## Drawing images and shapes using OpenCV\n",
    "## Firsty, let's import OpenCV and numpy and define our imshow function"
   ]
  },
  {
   "cell_type": "code",
   "execution_count": 2,
   "id": "7312e74d",
   "metadata": {},
   "outputs": [],
   "source": [
    "# Our Setup, Import Libaries, Create our Imshow Function and Download our Images\n",
    "\n",
    "\n",
    "import numpy as np\n",
    "import cv2"
   ]
  },
  {
   "cell_type": "code",
   "execution_count": 3,
   "id": "98e67ba2",
   "metadata": {},
   "outputs": [],
   "source": [
    "img=cv2.imread(\"dog.jpg\")"
   ]
  },
  {
   "cell_type": "code",
   "execution_count": 4,
   "id": "e36631ee",
   "metadata": {},
   "outputs": [
    {
     "data": {
      "text/plain": [
       "array([[[ 16,  72, 113],\n",
       "        [ 16,  72, 113],\n",
       "        [ 14,  73, 113],\n",
       "        ...,\n",
       "        [ 31,  90, 135],\n",
       "        [ 35,  94, 139],\n",
       "        [ 43, 102, 147]],\n",
       "\n",
       "       [[ 16,  72, 113],\n",
       "        [ 16,  72, 113],\n",
       "        [ 14,  73, 113],\n",
       "        ...,\n",
       "        [ 31,  90, 135],\n",
       "        [ 35,  94, 139],\n",
       "        [ 42, 101, 146]],\n",
       "\n",
       "       [[ 16,  72, 113],\n",
       "        [ 16,  72, 113],\n",
       "        [ 14,  73, 113],\n",
       "        ...,\n",
       "        [ 31,  90, 135],\n",
       "        [ 35,  94, 139],\n",
       "        [ 42, 101, 146]],\n",
       "\n",
       "       ...,\n",
       "\n",
       "       [[130, 208, 231],\n",
       "        [130, 208, 231],\n",
       "        [130, 208, 231],\n",
       "        ...,\n",
       "        [143, 210, 237],\n",
       "        [143, 210, 237],\n",
       "        [143, 210, 237]],\n",
       "\n",
       "       [[130, 208, 231],\n",
       "        [130, 208, 231],\n",
       "        [130, 208, 231],\n",
       "        ...,\n",
       "        [143, 210, 237],\n",
       "        [143, 210, 237],\n",
       "        [143, 210, 237]],\n",
       "\n",
       "       [[130, 208, 231],\n",
       "        [130, 208, 231],\n",
       "        [130, 208, 231],\n",
       "        ...,\n",
       "        [143, 210, 237],\n",
       "        [143, 210, 237],\n",
       "        [143, 210, 237]]], dtype=uint8)"
      ]
     },
     "execution_count": 4,
     "metadata": {},
     "output_type": "execute_result"
    }
   ],
   "source": [
    "img"
   ]
  },
  {
   "cell_type": "code",
   "execution_count": 5,
   "id": "b1227637",
   "metadata": {},
   "outputs": [],
   "source": [
    "cv2.imshow(\"hello,\",img)\n",
    "cv2.waitKey(0)\n",
    "cv2.destroyAllWindows()"
   ]
  },
  {
   "cell_type": "code",
   "execution_count": 6,
   "id": "a34fff47",
   "metadata": {},
   "outputs": [
    {
     "data": {
      "text/plain": [
       "(720, 1280, 3)"
      ]
     },
     "execution_count": 6,
     "metadata": {},
     "output_type": "execute_result"
    }
   ],
   "source": [
    "img.shape"
   ]
  },
  {
   "cell_type": "code",
   "execution_count": 7,
   "id": "30d0ada4",
   "metadata": {},
   "outputs": [],
   "source": [
    "convert=cv2.cvtColor(img,cv2.COLOR_BGR2GRAY)"
   ]
  },
  {
   "cell_type": "code",
   "execution_count": 8,
   "id": "58f6a920",
   "metadata": {},
   "outputs": [],
   "source": [
    "cv2.imshow(\"Hey\",convert)\n",
    "cv2.waitKey(0)\n",
    "cv2.destroyAllWindows()\n"
   ]
  },
  {
   "cell_type": "code",
   "execution_count": 9,
   "id": "daf2f892",
   "metadata": {},
   "outputs": [],
   "source": [
    "convert2=cv2.cvtColor(img,cv2.COLOR_BGR2HSV)"
   ]
  },
  {
   "cell_type": "code",
   "execution_count": 10,
   "id": "87b008a2",
   "metadata": {},
   "outputs": [],
   "source": [
    "cv2.imshow(\"hi\",convert2)\n",
    "cv2.waitKey(0)\n",
    "cv2.destroyAllWindows()"
   ]
  },
  {
   "cell_type": "code",
   "execution_count": 11,
   "id": "6f8fa298",
   "metadata": {},
   "outputs": [],
   "source": [
    "cartoon=cv2.Canny(img,100,200,5)"
   ]
  },
  {
   "cell_type": "code",
   "execution_count": 12,
   "id": "3f55c3e6",
   "metadata": {},
   "outputs": [],
   "source": [
    "cv2.imshow(\"Helo\",cartoon)\n",
    "cv2.waitKey(0)\n",
    "cv2.destroyAllWindows()"
   ]
  },
  {
   "cell_type": "code",
   "execution_count": 14,
   "id": "aa2f51f4",
   "metadata": {},
   "outputs": [],
   "source": [
    "img=cv2.imread(\"dog.jpg\")\n",
    "\n",
    "cv2.line(img,(0,0),(720,1280),(0,0,255),7)\n",
    "cv2.imshow(\"hi\",img)\n",
    "cv2.waitKey(0)\n",
    "cv2.destroyAllWindows()"
   ]
  },
  {
   "cell_type": "code",
   "execution_count": 15,
   "id": "8c4cc93a",
   "metadata": {},
   "outputs": [],
   "source": [
    "img=cv2.imread(\"dog.jpg\")\n",
    "\n",
    "cv2.rectangle(img,(10,0),(600,600),(0,255,0),-1)\n",
    " \n",
    "cv2.imshow(\"hi\",img)\n",
    "cv2.waitKey(0)\n",
    "cv2.destroyAllWindows()"
   ]
  },
  {
   "cell_type": "code",
   "execution_count": null,
   "id": "01e38503",
   "metadata": {},
   "outputs": [],
   "source": []
  },
  {
   "cell_type": "code",
   "execution_count": null,
   "id": "ef31c454",
   "metadata": {},
   "outputs": [],
   "source": []
  }
 ],
 "metadata": {
  "kernelspec": {
   "display_name": "Python 3 (ipykernel)",
   "language": "python",
   "name": "python3"
  },
  "language_info": {
   "codemirror_mode": {
    "name": "ipython",
    "version": 3
   },
   "file_extension": ".py",
   "mimetype": "text/x-python",
   "name": "python",
   "nbconvert_exporter": "python",
   "pygments_lexer": "ipython3",
   "version": "3.9.7"
  }
 },
 "nbformat": 4,
 "nbformat_minor": 5
}
